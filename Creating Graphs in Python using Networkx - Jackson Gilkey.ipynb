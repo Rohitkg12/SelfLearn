{
 "cells": [
  {
   "cell_type": "markdown",
   "metadata": {},
   "source": [
    "# Creating Graphs in Python using Networkx - Jackson Gilkey\n",
    "\n",
    "https://towardsdatascience.com/intro-to-graphs-in-python-using-networkx-cfc84d1df31f"
   ]
  },
  {
   "cell_type": "code",
   "execution_count": 39,
   "metadata": {},
   "outputs": [],
   "source": [
    "# !pip install networkx"
   ]
  },
  {
   "cell_type": "code",
   "execution_count": 40,
   "metadata": {},
   "outputs": [],
   "source": [
    "import networkx as nx\n"
   ]
  },
  {
   "cell_type": "code",
   "execution_count": 24,
   "metadata": {},
   "outputs": [],
   "source": [
    "G=nx.Graph()"
   ]
  },
  {
   "cell_type": "code",
   "execution_count": 25,
   "metadata": {},
   "outputs": [],
   "source": [
    "G.add_node(1)\n",
    "G.add_node(2)\n",
    "G.add_edge(1,2)"
   ]
  },
  {
   "cell_type": "code",
   "execution_count": 26,
   "metadata": {},
   "outputs": [],
   "source": [
    "G.add_nodes_from([2,3,4,5,6])\n",
    "G.add_edges_from([(1,2),(4,5),(3,5),(2,3),(5,6)])"
   ]
  },
  {
   "cell_type": "code",
   "execution_count": 27,
   "metadata": {},
   "outputs": [
    {
     "name": "stdout",
     "output_type": "stream",
     "text": [
      "[1, 2, 3, 4, 5, 6]\n"
     ]
    }
   ],
   "source": [
    "print(G.nodes())"
   ]
  },
  {
   "cell_type": "code",
   "execution_count": 28,
   "metadata": {},
   "outputs": [
    {
     "name": "stdout",
     "output_type": "stream",
     "text": [
      "[(1, 2), (2, 3), (3, 5), (4, 5), (5, 6)]\n"
     ]
    }
   ],
   "source": [
    "print(G.edges())"
   ]
  },
  {
   "cell_type": "code",
   "execution_count": 29,
   "metadata": {},
   "outputs": [],
   "source": [
    "G.add_node('ib')\n",
    "G.add_edge(3,'ib')"
   ]
  },
  {
   "cell_type": "code",
   "execution_count": 30,
   "metadata": {},
   "outputs": [
    {
     "name": "stdout",
     "output_type": "stream",
     "text": [
      "[(1, {'color': 'red', 'count': 10}), (2, {}), (3, {}), (4, {}), (5, {}), (6, {}), ('ib', {})]\n"
     ]
    }
   ],
   "source": [
    "G.nodes[1]['color'] = 'red'\n",
    "G.nodes[1]['count'] = 10\n",
    "print(G.nodes.data())"
   ]
  },
  {
   "cell_type": "code",
   "execution_count": 31,
   "metadata": {},
   "outputs": [],
   "source": [
    "from networkx.algorithms import approximation as aprx"
   ]
  },
  {
   "cell_type": "code",
   "execution_count": 32,
   "metadata": {},
   "outputs": [],
   "source": [
    "G.add_edge(4,6)"
   ]
  },
  {
   "cell_type": "code",
   "execution_count": 33,
   "metadata": {},
   "outputs": [
    {
     "name": "stdout",
     "output_type": "stream",
     "text": [
      "{4, 6}\n"
     ]
    }
   ],
   "source": [
    "print(aprx.max_clique(G))"
   ]
  },
  {
   "cell_type": "code",
   "execution_count": null,
   "metadata": {},
   "outputs": [],
   "source": []
  },
  {
   "cell_type": "code",
   "execution_count": null,
   "metadata": {},
   "outputs": [],
   "source": []
  },
  {
   "cell_type": "code",
   "execution_count": null,
   "metadata": {},
   "outputs": [],
   "source": []
  },
  {
   "cell_type": "code",
   "execution_count": 34,
   "metadata": {},
   "outputs": [
    {
     "name": "stdout",
     "output_type": "stream",
     "text": [
      "Add node: foo\n",
      "Add node: b\n",
      "Add node: a\n",
      "Add node: r\n",
      "Remove node: b\n",
      "Remove node: a\n",
      "Remove node: r\n",
      "Nodes in G:  [('foo', {'attr_dict': None})]\n",
      "Add edge: 0-1\n",
      "Edges in G:  [(0, 1, {'attr_dict': None, 'weight': 10})]\n",
      "Remove edge: 0-1\n",
      "Add edge: 0-1\n",
      "Add edge: 1-2\n",
      "Add edge: 2-3\n",
      "Edges in G:  [(0, 1, {'attr_dict': None, 'weight': 10}), (1, 2, {'attr_dict': None, 'weight': 10}), (2, 3, {'attr_dict': None, 'weight': 10})]\n",
      "Remove edge: 0-1\n",
      "Remove edge: 1-2\n",
      "Remove edge: 2-3\n",
      "Edges in G:  []\n",
      "Add node: 0\n",
      "Add edge: 0-1\n",
      "Add edge: 1-2\n",
      "Add edge: 2-3\n",
      "Add edge: 3-4\n",
      "Add edge: 4-5\n",
      "Add edge: 5-6\n",
      "Add edge: 6-7\n",
      "Add edge: 7-8\n",
      "Add edge: 8-9\n",
      "Add node: 9\n",
      "Add edge: 9-10\n",
      "Add edge: 9-11\n",
      "Add edge: 9-12\n"
     ]
    },
    {
     "data": {
      "image/png": "[encoded data removed]",
      "text/plain": [
       "<Figure size 432x288 with 1 Axes>"
      ]
     },
     "metadata": {},
     "output_type": "display_data"
    }
   ],
   "source": [
    "import matplotlib.pyplot as plt\n",
    "import networkx as nx\n",
    "from networkx import Graph\n",
    "\n",
    "\n",
    "class PrintGraph(Graph):\n",
    "    \"\"\"\n",
    "    Example subclass of the Graph class.\n",
    "\n",
    "    Prints activity log to file or standard output.\n",
    "    \"\"\"\n",
    "\n",
    "    def __init__(self, data=None, name=\"\", file=None, **attr):\n",
    "        Graph.__init__(self, data=data, name=name, **attr)\n",
    "        if file is None:\n",
    "            import sys\n",
    "\n",
    "            self.fh = sys.stdout\n",
    "        else:\n",
    "            self.fh = open(file, \"w\")\n",
    "\n",
    "    def add_node(self, n, attr_dict=None, **attr):\n",
    "        Graph.add_node(self, n, attr_dict=attr_dict, **attr)\n",
    "        self.fh.write(f\"Add node: {n}\\n\")\n",
    "\n",
    "    def add_nodes_from(self, nodes, **attr):\n",
    "        for n in nodes:\n",
    "            self.add_node(n, **attr)\n",
    "\n",
    "    def remove_node(self, n):\n",
    "        Graph.remove_node(self, n)\n",
    "        self.fh.write(f\"Remove node: {n}\\n\")\n",
    "\n",
    "    def remove_nodes_from(self, nodes):\n",
    "        for n in nodes:\n",
    "            self.remove_node(n)\n",
    "\n",
    "    def add_edge(self, u, v, attr_dict=None, **attr):\n",
    "        Graph.add_edge(self, u, v, attr_dict=attr_dict, **attr)\n",
    "        self.fh.write(f\"Add edge: {u}-{v}\\n\")\n",
    "\n",
    "    def add_edges_from(self, ebunch, attr_dict=None, **attr):\n",
    "        for e in ebunch:\n",
    "            u, v = e[0:2]\n",
    "            self.add_edge(u, v, attr_dict=attr_dict, **attr)\n",
    "\n",
    "    def remove_edge(self, u, v):\n",
    "        Graph.remove_edge(self, u, v)\n",
    "        self.fh.write(f\"Remove edge: {u}-{v}\\n\")\n",
    "\n",
    "    def remove_edges_from(self, ebunch):\n",
    "        for e in ebunch:\n",
    "            u, v = e[0:2]\n",
    "            self.remove_edge(u, v)\n",
    "\n",
    "    def clear(self):\n",
    "        Graph.clear(self)\n",
    "        self.fh.write(\"Clear graph\\n\")\n",
    "\n",
    "\n",
    "G = PrintGraph()\n",
    "G.add_node(\"foo\")\n",
    "G.add_nodes_from(\"bar\", weight=8)\n",
    "G.remove_node(\"b\")\n",
    "G.remove_nodes_from(\"ar\")\n",
    "print(\"Nodes in G: \", G.nodes(data=True))\n",
    "G.add_edge(0, 1, weight=10)\n",
    "print(\"Edges in G: \", G.edges(data=True))\n",
    "G.remove_edge(0, 1)\n",
    "G.add_edges_from(zip(range(0, 3), range(1, 4)), weight=10)\n",
    "print(\"Edges in G: \", G.edges(data=True))\n",
    "G.remove_edges_from(zip(range(0, 3), range(1, 4)))\n",
    "print(\"Edges in G: \", G.edges(data=True))\n",
    "\n",
    "G = PrintGraph()\n",
    "nx.add_path(G, range(10))\n",
    "nx.add_star(G, range(9, 13))\n",
    "nx.draw(G)\n",
    "plt.show()"
   ]
  },
  {
   "cell_type": "code",
   "execution_count": 4,
   "metadata": {},
   "outputs": [],
   "source": []
  },
  {
   "cell_type": "code",
   "execution_count": 5,
   "metadata": {},
   "outputs": [],
   "source": []
  },
  {
   "cell_type": "code",
   "execution_count": 6,
   "metadata": {},
   "outputs": [],
   "source": []
  },
  {
   "cell_type": "code",
   "execution_count": 9,
   "metadata": {},
   "outputs": [
    {
     "name": "stdout",
     "output_type": "stream",
     "text": [
      "\n"
     ]
    }
   ],
   "source": [
    "G."
   ]
  },
  {
   "cell_type": "code",
   "execution_count": 38,
   "metadata": {},
   "outputs": [
    {
     "name": "stdout",
     "output_type": "stream",
     "text": [
      "Add node: 1\n",
      "Add node: 2\n",
      "Add edge: 1-2\n",
      "Add node: 2\n",
      "Add node: 3\n",
      "Add node: 4\n",
      "Add node: 5\n",
      "Add node: 6\n",
      "Add edge: 1-2\n",
      "Add edge: 4-5\n",
      "Add edge: 3-5\n",
      "Add edge: 2-3\n",
      "Add edge: 5-6\n",
      "Add node: ib\n",
      "Add edge: 3-ib\n",
      "Add edge: 4-6\n"
     ]
    },
    {
     "data": {
      "image/png": "[encoded data removed]",
      "text/plain": [
       "<Figure size 432x288 with 1 Axes>"
      ]
     },
     "metadata": {},
     "output_type": "display_data"
    }
   ],
   "source": [
    "G = PrintGraph()\n",
    "G.add_node(1)\n",
    "G.add_node(2)\n",
    "G.add_edge(1,2)\n",
    "G.add_nodes_from([2,3,4,5,6])\n",
    "G.add_edges_from([(1,2),(4,5),(3,5),(2,3),(5,6)])\n",
    "G.add_node('ib')\n",
    "G.add_edge(3,'ib')\n",
    "G.nodes[1]['color'] = 'red'\n",
    "G.nodes[1]['count'] = 10\n",
    "G.add_edge(4,6)\n",
    "nx.draw(G)\n",
    "plt.show()"
   ]
  }
 ],
 "metadata": {
  "kernelspec": {
   "display_name": "selflearn",
   "language": "python",
   "name": "selflearn"
  },
  "language_info": {
   "codemirror_mode": {
    "name": "ipython",
    "version": 3
   },
   "file_extension": ".py",
   "mimetype": "text/x-python",
   "name": "python",
   "nbconvert_exporter": "python",
   "pygments_lexer": "ipython3",
   "version": "3.7.1"
  }
 },
 "nbformat": 4,
 "nbformat_minor": 4
}
